{
 "cells": [
  {
   "cell_type": "code",
   "execution_count": 3,
   "metadata": {},
   "outputs": [
    {
     "name": "stderr",
     "output_type": "stream",
     "text": [
      "/Users/clouis/opt/anaconda3/lib/python3.8/site-packages/scipy/__init__.py:138: UserWarning: A NumPy version >=1.16.5 and <1.23.0 is required for this version of SciPy (detected version 1.24.1)\n",
      "  warnings.warn(f\"A NumPy version >={np_minversion} and <{np_maxversion} is required for this version of \"\n"
     ]
    }
   ],
   "source": [
    "import pandas as pd\n",
    "import glob\n",
    "import scipy.io as io\n",
    "import numpy\n",
    "from tfcat import TFCat\n",
    "from shapely.geometry import MultiPoint, Point, Polygon, MultiPolygon\n",
    "from astropy.time import Time\n",
    "\n",
    "import matplotlib.pyplot as plt\n",
    "import matplotlib.cm as cm\n",
    "\n",
    "from matplotlib.colors import LinearSegmentedColormap\n",
    "import matplotlib.colors as colors\n",
    "from mpl_toolkits.axes_grid1 import make_axes_locatable\n",
    "from mpl_toolkits import axes_grid1\n",
    "from matplotlib.ticker import (MultipleLocator,\n",
    "                               FormatStrFormatter,\n",
    "                               AutoMinorLocator)\n",
    "\n",
    "\n",
    "import h5py\n",
    "from h5py import File\n",
    "import numpy as np\n",
    "from datetime import datetime\n",
    "from os import path\n",
    "import matplotlib.dates as mdates\n",
    "import matplotlib.pyplot as plt\n",
    "import csv\n",
    "from tqdm import tqdm\n",
    "import seaborn as sns \n",
    "from scipy.stats import binned_statistic_2d\n",
    "from shapely.ops import unary_union\n",
    "\n",
    "import plotly.graph_objects as go\n",
    "plt.rcParams[\"figure.figsize\"] = (200,100)\n"
   ]
  },
  {
   "cell_type": "code",
   "execution_count": 4,
   "metadata": {},
   "outputs": [],
   "source": [
    "def load_hdf5_data(file_name: str):\n",
    "    \"\"\"\n",
    "    Reads a datafile in HDF5 format using the config file set earlier.\n",
    "    \"\"\"\n",
    "    file: File = File(file_name)\n",
    "    time = file['Time']\n",
    "    freqs = file['Frequency']\n",
    "    data = file['Data']\n",
    "    return time, freqs, data"
   ]
  },
  {
   "cell_type": "code",
   "execution_count": 24,
   "metadata": {},
   "outputs": [],
   "source": [
    "def polar_ephemeris_load(file, time_view_start, time_view_end, coordinate_system = \"GSM\"):\n",
    "    df = pd.read_csv(file, delimiter = \" \", header = None, skiprows=4,\n",
    "                    names=[\"Date\", \"Time\", \"x_geo\", \"y_geo\", \"z_geo\", \"GEO_LAT\", \"GEO_LONG\", \"x_gm\", \"y_gm\", \"z_gm\", \"GM_LAT\", \"GM_LONG\", \"x_gse\", \"y_gse\", \"z_gse\", \"GSE_LAT\", \"GSE_LONG\", \"LT_gsm\", \"x_gsm\", \"y_gsm\", \"z_gsm\", \"GSM_LAT\", \"GSM_LONG\", \"Distance_R_E\"])\n",
    "    df[\"Date\"] = \"19\"+df[\"Date\"] \n",
    "    df.index = pd.to_datetime(df[\"Date\"]+\"T\"+df[\"Time\"])\n",
    "    df.drop([\"Date\", \"Time\"], axis = 1, inplace = True)\n",
    "\n",
    "    #Restricting flux and ephemeris data to be within the user defined start/end times\n",
    "    \n",
    "    df = df[(df.index > time_view_start) & (df.index < time_view_end)]\n",
    "\n",
    "    date = numpy.array(Time(df.index).unix)\n",
    "    latitude = numpy.array(df[coordinate_system+\"_LAT\"])\n",
    "    longitude = numpy.array(df[coordinate_system+\"_LONG\"])\n",
    "    distance = numpy.array(df[\"Distance_R_E\"])\n",
    "    return(date,latitude,longitude, distance)"
   ]
  },
  {
   "cell_type": "code",
   "execution_count": 5,
   "metadata": {},
   "outputs": [],
   "source": [
    "def polar_ephemeris_load_xyz(file, time_view_start, time_view_end, coordinate_system = \"GSM\"):\n",
    "    df = pd.read_csv(file, delimiter = \" \", header = None, skiprows=4,\n",
    "                    names=[\"Date\", \"Time\", \"x_geo\", \"y_geo\", \"z_geo\", \"GEO_LAT\", \"GEO_LONG\", \"x_gm\", \"y_gm\", \"z_gm\", \"GM_LAT\", \"GM_LONG\", \"x_gse\", \"y_gse\", \"z_gse\", \"GSE_LAT\", \"GSE_LONG\", \"LT_gsm\", \"x_gsm\", \"y_gsm\", \"z_gsm\", \"GSM_LAT\", \"GSM_LONG\", \"Distance_R_E\"])\n",
    "    df[\"Date\"] = \"19\"+df[\"Date\"] \n",
    "    df.index = pd.to_datetime(df[\"Date\"]+\"T\"+df[\"Time\"])\n",
    "    df.drop([\"Date\", \"Time\"], axis = 1, inplace = True)\n",
    "\n",
    "    #Restricting flux and ephemeris data to be within the user defined start/end times\n",
    "    \n",
    "    df = df[(df.index > time_view_start) & (df.index < time_view_end)]\n",
    "\n",
    "    date = numpy.array(Time(df.index).unix)\n",
    "    x = numpy.array(df[\"x_\"+coordinate_system.lower()], dtype=float)\n",
    "    y = numpy.array(df[\"y_\"+coordinate_system.lower()], dtype=float)\n",
    "    z = numpy.array(df[\"z_\"+coordinate_system.lower()], dtype=float)\n",
    "\n",
    "    return(date,x,y,z)"
   ]
  },
  {
   "cell_type": "code",
   "execution_count": 22,
   "metadata": {},
   "outputs": [],
   "source": [
    "def plot_trajectory_magnetic_equatorial_plane(rho_orbit,z_orbit, flux_orbit,coordinate_system,  save_html = False, save_png = False, show_plot = True):\n",
    "\n",
    "    cmax_orbit =  np.quantile(flux_orbit,0.90)\n",
    "    cmin_orbit = np.quantile(flux_orbit,0.35)\n",
    "\n",
    "    fig = go.Figure(data=go.Scatter(\n",
    "                    x=rho_orbit,\n",
    "                    y=z_orbit,\n",
    "                    mode='markers',\n",
    "                    marker=dict(\n",
    "                        size=2,\n",
    "                        color=flux_orbit,\n",
    "                        cmax = cmax_orbit,\n",
    "                        cmin = cmin_orbit,\n",
    "                        colorbar = dict(\n",
    "                            title = \"AKR Intensity\"\n",
    "                        ),\n",
    "                        colorscale='Viridis',\n",
    "                        opacity = 0.8\n",
    "                    ), \n",
    "        showlegend = False,\n",
    "        ))\n",
    "        \n",
    "    fig.update_xaxes(range=[-6,4], title=\"X (\"+coordinate_system+\")\")\n",
    "    fig.update_yaxes(range=[-2,10],title = \"Y (\"+coordinate_system+\")\")\n",
    "    fig.update_layout(font = dict(size = 15))\n",
    "\n",
    "    fig.add_shape(type=\"circle\",\n",
    "                    xref=\"x\", yref=\"y\",\n",
    "                    fillcolor=\"Grey\",\n",
    "                    x0=-1, y0=-1, x1=1, y1=1,\n",
    "                    line_color=\"Grey\",\n",
    "                    )\n",
    "    \n",
    "    if save_png == True:\n",
    "        fig.write_image(\"polar_trajectory_magnetic_equatorial_plane_\"+coordinate_system+\".pdf\")\n",
    "    if show_plot == True:\n",
    "        fig.show()\n",
    "    if save_html == True:\n",
    "        fig.write_html(\"polar_trajectory_magnetic_equatorial_plane_\"+coordinate_system+\".html\") #Modifiy the html file\n",
    "    \n",
    "\n",
    "    return"
   ]
  },
  {
   "cell_type": "code",
   "execution_count": 7,
   "metadata": {},
   "outputs": [],
   "source": [
    "def plot_colourline(x, y, c, vmin=None, vmax=None, colormap=cm.viridis):\n",
    "    if vmin == None:\n",
    "        vmin = np.quantile(c,0.35)\n",
    "    if vmax == None:\n",
    "        vmax = np.quantile(c,0.90)\n",
    "\n",
    "    intensity = c.copy()\n",
    "    intensity[c == -1] = vmin\n",
    "\n",
    "    # color = colormap(c / (vmax - vmin))\n",
    "    color = colormap(colors.LogNorm(vmin=vmin, vmax=vmax)(intensity))\n",
    "    ax = plt.gca()\n",
    "    for i in np.arange(len(x) - 1):\n",
    "        ax.plot([x[i], x[i + 1]], [y[i], y[i + 1]], c=color[i])\n",
    "    return\n"
   ]
  },
  {
   "cell_type": "code",
   "execution_count": 8,
   "metadata": {},
   "outputs": [
    {
     "name": "stderr",
     "output_type": "stream",
     "text": [
      "100%|██████████| 224616/224616 [01:38<00:00, 2276.95it/s]\n"
     ]
    }
   ],
   "source": [
    "#path to ephemeris and save directory:\n",
    "dir_save_name = \"/Users/clouis/Documents/Data/POLAR/data\"\n",
    "#Polar ephemeris data taken from https://sscweb.gsfc.nasa.gov/cgi-bin/Locator.cgi\n",
    "data_path_ephemeris = glob.glob(\"/Users/clouis/Documents/Data/POLAR/data/polar_ephemeris_geo_gm_gse_gsm.txt\")[0]\n",
    "\n",
    "time_view_start_all_orbit = '1996-03-25'\n",
    "time_view_end_all_orbit ='1996-05-03'\n",
    "\n",
    "i_coordinate_system=0\n",
    "\n",
    "#coordinate_system_table = [\"GSE\", \"GEO\", \"GSM\",\"GM\"]\n",
    "coordinate_system_table = [\"GSM\"]\n",
    "\n",
    "type = [\"all\"]\n",
    "type_feature = \"ALL\"\n",
    "path_masked_data = \"/Users/clouis/Documents/Data/POLAR/data/polar_all_features_mask.hdf5\"\n",
    "\n",
    " # load masked data\n",
    "(time_data, freqs_data, masked_data) = load_hdf5_data(path_masked_data)\n",
    "\n",
    "# sorted data to avoid issue later\n",
    "\n",
    "sorted_time, sorted_data = zip(*sorted(zip(time_data, masked_data)))\n",
    "del time_data, masked_data\n",
    "time_data, masked_data = numpy.array(sorted_time), numpy.array(sorted_data)\n",
    "\n",
    "\n",
    "for coordinate_system in coordinate_system_table:\n",
    "    \n",
    "    i_coordinate_system = i_coordinate_system+1\n",
    "\n",
    "    (date_ephem_all_orbit,x_all_orbit,y_all_orbit,z_all_orbit) = polar_ephemeris_load_xyz(data_path_ephemeris, time_view_start_all_orbit, time_view_end_all_orbit,coordinate_system=coordinate_system)\n",
    "\n",
    "#Interpolating the ephemeris data so it lines up with the flux data\n",
    "    masked_data_all_orbit = masked_data[(time_data > date_ephem_all_orbit[0]) & (time_data < date_ephem_all_orbit[-1]),:]\n",
    "    time_data_all_orbit = time_data[(time_data > date_ephem_all_orbit[0]) & (time_data < date_ephem_all_orbit[-1])]\n",
    "\n",
    "    x_all_orbit = numpy.array(numpy.interp(time_data_all_orbit, date_ephem_all_orbit, x_all_orbit))\n",
    "    y_all_orbit = numpy.array(numpy.interp(time_data_all_orbit, date_ephem_all_orbit, y_all_orbit))\n",
    "    z_all_orbit = numpy.array(numpy.interp(time_data_all_orbit, date_ephem_all_orbit, z_all_orbit))\n",
    "    date_ephem_all_orbit = numpy.array(numpy.interp(time_data_all_orbit, date_ephem_all_orbit, date_ephem_all_orbit))\n",
    "\n",
    "\n",
    "# Normalizing @ 1 AU\n",
    "    RE = 6371.0\n",
    "    AU = 149597870.700 # 1 astronomical unit\n",
    "    distance = numpy.sqrt(x_all_orbit**2+y_all_orbit**2+z_all_orbit**2)\n",
    "    for i_freq in range(len(freqs_data)):\n",
    "        masked_data_all_orbit[:, i_freq] = masked_data_all_orbit[:,i_freq]*(distance*RE/AU)**2\n",
    "\n",
    "\n",
    "    integrated_flux = []\n",
    "    #for t in tqdm(time_data_first_orbit):\n",
    "    #    colours_first_orbit.append(masked_data_first_orbit[time_data_first_orbit == t].sum())\n",
    "    #for t in tqdm(time_data_last_orbit):\n",
    "    #    colours_last_orbit.append(masked_data_last_orbit[time_data_last_orbit == t].sum())\n",
    "    for t in tqdm(time_data_all_orbit):\n",
    "        integrated_flux.append(masked_data_all_orbit[time_data_all_orbit == t].sum())\n",
    "\n",
    "\n",
    "\n",
    "\n",
    "\n"
   ]
  },
  {
   "cell_type": "code",
   "execution_count": 9,
   "metadata": {},
   "outputs": [],
   "source": [
    "rho = np.sqrt(x_all_orbit**2+y_all_orbit**2)\n",
    "for x_index in range(len(x_all_orbit)):\n",
    "    if x_all_orbit[x_index] < 0:\n",
    "        rho[x_index] = -1*rho[x_index]"
   ]
  },
  {
   "cell_type": "code",
   "execution_count": null,
   "metadata": {},
   "outputs": [],
   "source": []
  },
  {
   "cell_type": "code",
   "execution_count": 23,
   "metadata": {},
   "outputs": [
    {
     "name": "stderr",
     "output_type": "stream",
     "text": [
      "<ipython-input-23-e3592faa57e1>:1: RuntimeWarning:\n",
      "\n",
      "divide by zero encountered in log10\n",
      "\n"
     ]
    }
   ],
   "source": [
    "\n",
    "integrated_flux_log = np.log10(integrated_flux)\n",
    "\n",
    "plot_trajectory_magnetic_equatorial_plane(rho,z_all_orbit, integrated_flux_log,coordinate_system, save_html = True, save_png = True, show_plot = False)"
   ]
  },
  {
   "cell_type": "code",
   "execution_count": null,
   "metadata": {},
   "outputs": [],
   "source": [
    "\n",
    "#integrated_flux_log = np.log10(integrated_flux)\n",
    "fig, ax = plt.subplots()\n",
    "ax.set_xlim(-5,5)\n",
    "ax.set_ylim(-2,+10)\n",
    "ax.axhline(0., linestyle='--', alpha=0.5, color='grey', zorder=0)\n",
    "ax.axvline(0., linestyle='--', alpha=0.5, color='grey', zorder=0)\n",
    "    \n",
    "vmin = np.quantile(integrated_flux,0.35)\n",
    "vmax = np.quantile(integrated_flux,0.90)\n",
    "\n",
    "plot_colourline(rho, z_all_orbit, numpy.array(integrated_flux),vmin=vmin,vmax=vmax)\n",
    "\n",
    "angle_circle = np.linspace(0,2*np.pi,150)\n",
    "radius_circle = 1\n",
    "x_circle = radius_circle * np.cos(angle_circle)\n",
    "y_circle = radius_circle * np.sin(angle_circle)\n",
    "ax.plot(x_circle,y_circle,color='black')\n",
    "\n",
    "cmap=plt.get_cmap('viridis')\n",
    "scale_intensity = colors.LogNorm(vmin=vmin,vmax=vmax)\n",
    "sm=cm.ScalarMappable(cmap=cmap,norm=scale_intensity)\n",
    "sm.set_array([])\n",
    "plt.colorbar(sm)\n",
    "\n",
    "ax.set_title('Integrated intensity @ 1 AU')\n",
    "ax.set_xlabel(r'$\\rho = \\sqrt{x^2+y^2}$ ($R_{E}$)')\n",
    "ax.set_ylabel(r'$z$ ($R_{E}$)')\n",
    "plt.tight_layout()\n",
    "\n",
    "plt.savefig(\"magnetic_equatorial_plane_GSM.png\")\n",
    "\n",
    "plt.show()\n",
    "\n",
    "    "
   ]
  },
  {
   "cell_type": "code",
   "execution_count": null,
   "metadata": {},
   "outputs": [],
   "source": []
  }
 ],
 "metadata": {
  "kernelspec": {
   "display_name": "base",
   "language": "python",
   "name": "python3"
  },
  "language_info": {
   "codemirror_mode": {
    "name": "ipython",
    "version": 3
   },
   "file_extension": ".py",
   "mimetype": "text/x-python",
   "name": "python",
   "nbconvert_exporter": "python",
   "pygments_lexer": "ipython3",
   "version": "3.8.5"
  },
  "orig_nbformat": 4,
  "vscode": {
   "interpreter": {
    "hash": "d0f4c53cb46905242d07dd7db99c6189014a263d8cf0c9bdcca4d68b573b9a7e"
   }
  }
 },
 "nbformat": 4,
 "nbformat_minor": 2
}
