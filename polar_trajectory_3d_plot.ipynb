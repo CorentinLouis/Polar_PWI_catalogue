{
 "cells": [
  {
   "cell_type": "code",
   "execution_count": 1,
   "metadata": {},
   "outputs": [],
   "source": [
    "import pandas as pd\n",
    "import glob\n",
    "import imageio\n",
    "import numpy\n",
    "from astropy.time import Time\n",
    "from h5py import File\n",
    "import numpy as np\n",
    "import os\n",
    "#from tqdm import tqdm\n",
    "from tqdm.notebook import tqdm\n",
    "import plotly.graph_objects as go\n",
    "import plotly.graph_objs as go"
   ]
  },
  {
   "cell_type": "code",
   "execution_count": 2,
   "metadata": {},
   "outputs": [],
   "source": [
    "def load_hdf5_data(file_name: str):\n",
    "    \"\"\"\n",
    "    Reads a datafile in HDF5 format using the config file set earlier.\n",
    "    \"\"\"\n",
    "    file: File = File(file_name)\n",
    "    time = file['Time']\n",
    "    freqs = file['Frequency']\n",
    "    data = file['Data']\n",
    "\n",
    "    # sorted data to avoid issue later\n",
    "    idx_sorted = np.argsort(time)\n",
    "    time, data = time[idx_sorted], data[idx_sorted]\n",
    "\n",
    "    return time, freqs, data"
   ]
  },
  {
   "cell_type": "code",
   "execution_count": 3,
   "metadata": {},
   "outputs": [],
   "source": [
    "def polar_ephemeris_load_xyz(file, time_view_start, time_view_end, coordinate_system = \"GSM\"):\n",
    "    df = pd.read_csv(file, delimiter = \" \", header = None, skiprows=4,\n",
    "                    names=[\"Date\", \"Time\", \"x_geo\", \"y_geo\", \"z_geo\", \"GEO_LAT\", \"GEO_LONG\", \"x_gm\", \"y_gm\", \"z_gm\", \"GM_LAT\", \"GM_LONG\", \"x_gse\", \"y_gse\", \"z_gse\", \"GSE_LAT\", \"GSE_LONG\", \"LT_gsm\", \"x_gsm\", \"y_gsm\", \"z_gsm\", \"GSM_LAT\", \"GSM_LONG\", \"Distance_R_E\"])\n",
    "    df[\"Date\"] = \"19\"+df[\"Date\"] \n",
    "    df.index = pd.to_datetime(df[\"Date\"]+\"T\"+df[\"Time\"])\n",
    "    df.drop([\"Date\", \"Time\"], axis = 1, inplace = True)\n",
    "\n",
    "    #Restricting flux and ephemeris data to be within the user defined start/end times\n",
    "    \n",
    "    df = df[(df.index > time_view_start) & (df.index < time_view_end)]\n",
    "\n",
    "    date = numpy.array(Time(df.index).unix)\n",
    "    x = numpy.array(df[\"x_\"+coordinate_system.lower()], dtype=float)\n",
    "    y = numpy.array(df[\"y_\"+coordinate_system.lower()], dtype=float)\n",
    "    z = numpy.array(df[\"z_\"+coordinate_system.lower()], dtype=float)\n",
    "\n",
    "    return(date,x,y,z)"
   ]
  },
  {
   "cell_type": "code",
   "execution_count": 4,
   "metadata": {},
   "outputs": [],
   "source": [
    "def ms(x, y, z, radius, resolution=20):\n",
    "    \"\"\"Return the coordinates for plotting a sphere centered at (x,y,z)\"\"\"\n",
    "    u, v = np.mgrid[0:2*np.pi:resolution*2j, 0:np.pi:resolution*1j]\n",
    "    X = radius * np.cos(u)*np.sin(v) + x\n",
    "    Y = radius * np.sin(u)*np.sin(v) + y\n",
    "    Z = radius * np.cos(v) + z\n",
    "    return (X, Y, Z)\n",
    "\n",
    "(x_pns_surface, y_pns_surface, z_pns_suraface) = ms(0,0,0,1)"
   ]
  },
  {
   "cell_type": "code",
   "execution_count": 5,
   "metadata": {},
   "outputs": [],
   "source": [
    "def RotZ(t):\n",
    "    return np.array([[cos(t), -sin(t), 0],\n",
    "                     [sin(t), cos(t), 0],\n",
    "                     [0, 0, 1]])"
   ]
  },
  {
   "cell_type": "code",
   "execution_count": 6,
   "metadata": {},
   "outputs": [],
   "source": [
    "def make_gif(directory_path: str = './', files_name: str ='filename*.png', output_path: str ='output.gif', fps: int =10, delete_pngs: bool =False) -> None:\n",
    "    # directory_path: Set the path to the directory containing the PNG files\n",
    "    # output_path: Set the output filename and path\n",
    "\n",
    "    # Use glob to get a list of all the PNG files in the directory\n",
    "    png_files = sorted(glob.glob(directory_path+files_name))\n",
    "\n",
    "    # Use imageio to create the GIF\n",
    "    with imageio.get_writer(output_path, mode='I', fps=fps) as writer:\n",
    "        for file in png_files:\n",
    "            with open(file,'rb') as f:\n",
    "                image = imageio.imread(f)\n",
    "                writer.append_data(image)\n",
    "            if delete_pngs: \n",
    "                os.remove(file)\n",
    "    return\n"
   ]
  },
  {
   "cell_type": "code",
   "execution_count": 7,
   "metadata": {},
   "outputs": [],
   "source": [
    "def plot_trajectory_3D(fig: go.Figure, x_all_orbit: np.ndarray, y_all_orbit: np.ndarray, z_all_orbit: np.ndarray, colours_all_orbit: np.ndarray, coordinate_system_name: str = \"Unknown\", filename: str = '3D_plot_trajectory', extension: str = \"png\", save_html: bool = False, save_image: bool = False, show_plot: bool = True, movie: bool = False, images_number: int = 10) -> None:\n",
    "   \n",
    "    # x_all_orbit, y_all_orbit, z_all_orbit are 1d numpy arrayes containgin the (x,y,z) coordinates\n",
    "    # colours_all_orbit is a 1d numpy array containing flux values (same size than x, y, and z arrays)\n",
    "    # filename needs to be without extension\n",
    "    # extension can be png or pdf\n",
    "    \n",
    "    \n",
    "    \n",
    "    cmax_all_orbit =  np.percentile(colours_all_orbit, 90)\n",
    "    cmin_all_orbit = np.percentile(colours_all_orbit, 35)\n",
    "\n",
    "    fig.add_trace(\n",
    "        go.Scatter3d(\n",
    "            x=x_all_orbit,\n",
    "            y=y_all_orbit,\n",
    "            z=z_all_orbit,\n",
    "            mode='markers',\n",
    "            marker=dict(\n",
    "                size=2,\n",
    "                color=colours_all_orbit,\n",
    "                cmax=cmax_all_orbit,\n",
    "                cmin=cmin_all_orbit,\n",
    "                colorbar=dict(\n",
    "                    title=dict(\n",
    "                        text=\"AKR Intensity (log V<sup>2</sup>/m<sup>2</sup>/Hz)\",\n",
    "                        side=\"right\"\n",
    "                    )\n",
    "                ),\n",
    "                colorscale=\"Viridis\",\n",
    "                opacity=0.8,\n",
    "            ),\n",
    "            showlegend=False\n",
    "        )\n",
    "    )\n",
    "\n",
    "    fig.add_trace(\n",
    "        go.Surface(\n",
    "            x=x_pns_surface, y=y_pns_surface, z=z_pns_suraface,\n",
    "            opacity=1,\n",
    "            colorscale=\"greys\",\n",
    "            lightposition=dict(x=-10000, y=0, z=0),\n",
    "            showlegend=False,\n",
    "            showscale=False\n",
    "        )\n",
    "    )\n",
    "\n",
    "    fig.update_layout(\n",
    "        font=dict(size=12),\n",
    "        scene=dict(\n",
    "            xaxis=dict(range=[-5, 5]),\n",
    "            yaxis=dict(range=[-5, 5]),\n",
    "            zaxis=dict(range=[-2, 10]),\n",
    "            xaxis_title=f\"X ({coordinate_system_name})\",\n",
    "            yaxis_title=f\"Y ({coordinate_system_name})\",\n",
    "            zaxis_title=f\"Z ({coordinate_system_name})\",\n",
    "            camera_eye=dict(x=2.5, y=0, z=0.1)\n",
    "        ),\n",
    "        margin=dict(t=1, r=1, b=1, l=1)\n",
    "    )\n",
    "\n",
    "    if movie:\n",
    "        angle_circle = np.linspace(0, 2*np.pi, images_number)\n",
    "        radius_circle = 2.5\n",
    "        x_circle = radius_circle * np.cos(angle_circle)\n",
    "        y_circle = radius_circle * np.sin(angle_circle)\n",
    "\n",
    "        for k in tqdm(range(len(x_circle))):\n",
    "            fig.update_scenes(camera_eye=dict(x=x_circle[k], y=y_circle[k], z=0.1))\n",
    "            fig.write_image(f\"{filename}_{k+1:03d}.{extension}\", scale=3)\n",
    "    else:\n",
    "        if save_html:\n",
    "            fig.write_html(filename+\".html\") \n",
    "        if save_image:\n",
    "            fig.write_image(f\"{filename}.{extension}\", scale = 3)\n",
    "        if show_plot:\n",
    "            fig.show()\n",
    "           \n"
   ]
  },
  {
   "cell_type": "code",
   "execution_count": 8,
   "metadata": {},
   "outputs": [
    {
     "data": {
      "application/vnd.jupyter.widget-view+json": {
       "model_id": "8501410c3f1b4655ad61d487b5361aaa",
       "version_major": 2,
       "version_minor": 0
      },
      "text/plain": [
       "  0%|          | 0/2 [00:00<?, ?it/s]"
      ]
     },
     "metadata": {},
     "output_type": "display_data"
    },
    {
     "name": "stdout",
     "output_type": "stream",
     "text": [
      "### Plotting 360 figure(s) ... this may take some time... ###\n"
     ]
    },
    {
     "name": "stderr",
     "output_type": "stream",
     "text": [
      "<ipython-input-8-aa9a43f1c510>:35: RuntimeWarning: divide by zero encountered in log10\n",
      "  colours_all_orbit = np.log10(masked_data_all_orbit.sum(axis=1))\n"
     ]
    },
    {
     "data": {
      "application/vnd.jupyter.widget-view+json": {
       "model_id": "250b9160488749459f8dd5072ac1638a",
       "version_major": 2,
       "version_minor": 0
      },
      "text/plain": [
       "  0%|          | 0/360 [00:00<?, ?it/s]"
      ]
     },
     "metadata": {},
     "output_type": "display_data"
    },
    {
     "name": "stdout",
     "output_type": "stream",
     "text": [
      "### Making gif from 360 png figure(s) ... this may take some time... ###\n",
      "### Plotting 360 figure(s) ... this may take some time... ###\n"
     ]
    },
    {
     "name": "stderr",
     "output_type": "stream",
     "text": [
      "<ipython-input-8-aa9a43f1c510>:35: RuntimeWarning:\n",
      "\n",
      "divide by zero encountered in log10\n",
      "\n"
     ]
    },
    {
     "data": {
      "application/vnd.jupyter.widget-view+json": {
       "model_id": "d6b754dfee964237937bcfc43cc6e583",
       "version_major": 2,
       "version_minor": 0
      },
      "text/plain": [
       "  0%|          | 0/360 [00:00<?, ?it/s]"
      ]
     },
     "metadata": {},
     "output_type": "display_data"
    },
    {
     "name": "stdout",
     "output_type": "stream",
     "text": [
      "### Making gif from 360 png figure(s) ... this may take some time... ###\n"
     ]
    }
   ],
   "source": [
    "dir_save_name = \"/Users/clouis/Documents/Data/POLAR/data\"\n",
    "data_path_ephemeris = glob.glob(\"/Users/clouis/Documents/Data/POLAR/data/polar_ephemeris_geo_gm_gse_gsm.txt\")[0]\n",
    "time_view_start_all_orbit = '1996-03-25'\n",
    "time_view_end_all_orbit ='1996-05-03'\n",
    "\n",
    "coordinate_system_table = [\"GM\", \"GSM\"]#[\"GSE\", \"GEO\", \"GSM\", \"GM\"]\n",
    "type_feature = \"all_features\"\n",
    "path_masked_data = f\"/Users/clouis/Documents/Data/POLAR/data/polar_{type_feature}_mask.hdf5\"\n",
    "\n",
    "# load masked data\n",
    "(time_data, freqs_data, masked_data) = load_hdf5_data(path_masked_data)\n",
    "\n",
    "\n",
    "for coordinate_system in tqdm(coordinate_system_table):\n",
    "    # load ephemeris\n",
    "    date_ephem_all_orbit, x_all_orbit, y_all_orbit, z_all_orbit = polar_ephemeris_load_xyz(data_path_ephemeris, time_view_start_all_orbit, time_view_end_all_orbit, coordinate_system=coordinate_system)\n",
    "\n",
    "    # Interpolate the ephemeris data so it lines up with the flux data\n",
    "    idx_mask = (time_data > date_ephem_all_orbit[0]) & (time_data < date_ephem_all_orbit[-1])\n",
    "    masked_data_all_orbit = masked_data[idx_mask]\n",
    "    time_data_all_orbit = time_data[idx_mask]\n",
    "\n",
    "    x_all_orbit = np.interp(time_data_all_orbit, date_ephem_all_orbit, x_all_orbit)\n",
    "    y_all_orbit = np.interp(time_data_all_orbit, date_ephem_all_orbit, y_all_orbit)\n",
    "    z_all_orbit = np.interp(time_data_all_orbit, date_ephem_all_orbit, z_all_orbit)\n",
    "    date_ephem_all_orbit = np.interp(time_data_all_orbit, date_ephem_all_orbit, date_ephem_all_orbit)\n",
    "\n",
    "    # Normalizing @ 1 AU\n",
    "    RE = 6371.0\n",
    "    AU = 149597870.700  # 1 astronomical unit\n",
    "    distance = np.sqrt(x_all_orbit**2 + y_all_orbit**2 + z_all_orbit**2)\n",
    "    distance_factor = (distance * RE / AU) ** 2\n",
    "    masked_data_all_orbit *= distance_factor[:, None]\n",
    "\n",
    "    colours_all_orbit = np.log10(masked_data_all_orbit.sum(axis=1))\n",
    "\n",
    "    filename = f\"polar_trajectory_{coordinate_system}_{type_feature}\"\n",
    "\n",
    "    fig = go.Figure()\n",
    "    images_number = 360\n",
    "    make_movie = True\n",
    "    extension = \"png\"\n",
    "    print(f\"### Plotting {images_number} figure(s) ... this may take some time... ###\")\n",
    "\n",
    "    plot_trajectory_3D(fig, x_all_orbit, y_all_orbit, z_all_orbit, colours_all_orbit, coordinate_system_name=coordinate_system, filename=filename, extension=extension, save_html=False, save_image=False, show_plot=False, movie=make_movie, images_number = images_number)\n",
    "    if make_movie:\n",
    "        print(f\"### Making gif from {images_number} {extension} figure(s) ... this may take some time... ###\")\n",
    "        make_gif(directory_path = './', files_name=f'{filename}*.png', output_path=f'{filename}.gif', fps=10, delete_pngs=True)"
   ]
  },
  {
   "cell_type": "code",
   "execution_count": 9,
   "metadata": {},
   "outputs": [],
   "source": [
    "make_gif(directory_path = './', files_name=f'{filename}*.png', output_path=f'{filename}.gif', fps=10, delete_pngs=True)"
   ]
  },
  {
   "cell_type": "code",
   "execution_count": null,
   "metadata": {},
   "outputs": [],
   "source": []
  }
 ],
 "metadata": {
  "kernelspec": {
   "display_name": "base",
   "language": "python",
   "name": "python3"
  },
  "language_info": {
   "codemirror_mode": {
    "name": "ipython",
    "version": 3
   },
   "file_extension": ".py",
   "mimetype": "text/x-python",
   "name": "python",
   "nbconvert_exporter": "python",
   "pygments_lexer": "ipython3",
   "version": "3.8.5"
  },
  "orig_nbformat": 4,
  "vscode": {
   "interpreter": {
    "hash": "d0f4c53cb46905242d07dd7db99c6189014a263d8cf0c9bdcca4d68b573b9a7e"
   }
  }
 },
 "nbformat": 4,
 "nbformat_minor": 2
}
