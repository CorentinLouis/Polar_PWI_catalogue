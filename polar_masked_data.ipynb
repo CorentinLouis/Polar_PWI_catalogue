{
 "cells": [
  {
   "cell_type": "code",
   "execution_count": 8,
   "metadata": {},
   "outputs": [],
   "source": [
    "import pandas as pd\n",
    "import glob\n",
    "import scipy.io as io\n",
    "import numpy\n",
    "from tfcat import TFCat\n",
    "from shapely.geometry import MultiPoint, Point, Polygon, MultiPolygon\n",
    "from astropy.time import Time\n",
    "import matplotlib.pyplot as pyplot\n",
    "import matplotlib.colors as colors\n",
    "import h5py\n",
    "from h5py import File\n",
    "import numpy as np\n",
    "from datetime import datetime\n",
    "from os import path\n",
    "import matplotlib.dates as mdates\n",
    "import matplotlib.pyplot as plt\n",
    "import csv\n",
    "from tqdm import tqdm\n",
    "import seaborn as sns \n",
    "from scipy.stats import binned_statistic_2d\n",
    "from shapely.ops import unary_union\n",
    "from hdf5_routines import data_to_hdf5\n",
    "from polar_masked_data import get_polygons, compute_data_points, compute_mask, apply\n",
    "\n",
    "\n",
    "plt.rcParams[\"figure.figsize\"] = (200,100)\n"
   ]
  },
  {
   "cell_type": "code",
   "execution_count": 15,
   "id": "ec62d03d",
   "metadata": {},
   "outputs": [],
   "source": [
    "#path to catalogue, data and ephemeris:\n",
    "\n",
    "\n",
    "dir_save_name = \"/Users/clouis/Documents/Data/POLAR/data\"\n",
    "path_data=glob.glob(\"/Users/clouis/Documents/Data/POLAR/data/po_h1_pwi.preprocessed.hdf5\")[0]\n",
    "path_cat=glob.glob(\"/Users/clouis/Documents/Data/POLAR/data/catalogue_Polar.json\")[0]\n",
    "\n",
    "#time_view_start = '1996-03-25'\n",
    "#time_view_end ='1996-05-03'\n",
    "time_view_start = '1996-01-01'\n",
    "time_view_end ='1996-07-01'\n",
    "val='Flux'\n",
    "type_=['AKR','AKR1','AKR2','HAKR','HAKR1','HAKR2','FCE','FCE1','FCE2']\n",
    "#type_=['HAKR','HAKR1','HAKR2']\n",
    "#type_=['LFE','LFE1', 'LFE2']\n",
    "#type_=['FCE','FCE1', 'FCE2']\n",
    "#type_=['AKR','AKR1', 'AKR2']\n"
   ]
  },
  {
   "cell_type": "code",
   "execution_count": 16,
   "id": "61ad9569",
   "metadata": {},
   "outputs": [],
   "source": [
    "# load data\n",
    "file_data = h5py.File(path_data, 'r')\n",
    "cols = list(file_data.keys())\n",
    "\n",
    "date_data = numpy.array(Time(file_data.get(cols[3])[:], format = \"jd\").unix)\n",
    "flux = numpy.array(file_data.get(cols[1])[:], dtype=\"float\")\n",
    "frequencies = numpy.array(file_data.get(cols[2])[:])\n",
    "\n",
    "\n",
    "\n"
   ]
  },
  {
   "cell_type": "code",
   "execution_count": 17,
   "id": "d8b2cd08",
   "metadata": {},
   "outputs": [],
   "source": [
    "flux = flux[(date_data >= Time(time_view_start).unix) & (date_data <= Time(time_view_end).unix),:]\n",
    "date_data = date_data[(date_data >= Time(time_view_start).unix) & (date_data < Time(time_view_end).unix)]\n",
    "\n"
   ]
  },
  {
   "cell_type": "code",
   "execution_count": 18,
   "id": "a412db68",
   "metadata": {},
   "outputs": [],
   "source": [
    "# sorted data to avoid issue later\n",
    "\n",
    "sorted_time, sorted_data = zip(*sorted(zip(date_data, flux)))\n",
    "del date_data, flux\n",
    "date_data, flux = numpy.array(sorted_time), numpy.array(sorted_data)"
   ]
  },
  {
   "cell_type": "code",
   "execution_count": 19,
   "id": "8dd396ea",
   "metadata": {},
   "outputs": [
    {
     "name": "stdout",
     "output_type": "stream",
     "text": [
      "['AKR', 'AKR1', 'AKR2', 'HAKR', 'HAKR1', 'HAKR2', 'FCE', 'FCE1', 'FCE2']\n"
     ]
    }
   ],
   "source": [
    "#Importing polygons \n",
    "#polygon_array=get_polygons(path_cat, time_view_start, time_view_end, type_)\n",
    "print(type_)\n",
    "cat = TFCat.from_file(path_cat)\n",
    "cat.feature(0).geometry.type\n",
    "\n",
    "event = cat.feature(0)\n",
    "crs = cat.crs\n",
    "tmin = crs.time_converter(event.bbox[0]).isot\n",
    "tmax = crs.time_converter(event.bbox[2]).isot\n",
    "\n",
    "polygon_array=get_polygons(path_cat, time_view_start, time_view_end, type_)"
   ]
  },
  {
   "cell_type": "code",
   "execution_count": 23,
   "id": "1835687c",
   "metadata": {},
   "outputs": [
    {
     "ename": "AttributeError",
     "evalue": "'MultiPolygon' object has no attribute 'geometry'",
     "output_type": "error",
     "traceback": [
      "\u001b[0;31m---------------------------------------------------------------------------\u001b[0m",
      "\u001b[0;31mAttributeError\u001b[0m                            Traceback (most recent call last)",
      "\u001b[0;32m<ipython-input-23-650d19cb973b>\u001b[0m in \u001b[0;36m<module>\u001b[0;34m\u001b[0m\n\u001b[0;32m----> 1\u001b[0;31m \u001b[0mpolygon_array\u001b[0m\u001b[0;34m[\u001b[0m\u001b[0;34m'AKR'\u001b[0m\u001b[0;34m]\u001b[0m\u001b[0;34m.\u001b[0m\u001b[0mgeometry\u001b[0m\u001b[0;34m\u001b[0m\u001b[0;34m\u001b[0m\u001b[0m\n\u001b[0m",
      "\u001b[0;31mAttributeError\u001b[0m: 'MultiPolygon' object has no attribute 'geometry'"
     ]
    }
   ],
   "source": [
    "polygon_array['AKR'].geometry"
   ]
  },
  {
   "cell_type": "code",
   "execution_count": 12,
   "id": "3ec89c13",
   "metadata": {},
   "outputs": [],
   "source": [
    "# Preparing data for the filtering\n",
    "#coords = [(t, f) for t,f in zip(date_data.flatten(), frequencies.flatten())]\n",
    "#data_len = len(flux)\n",
    "#index = numpy.arange(data_len, dtype=int)\n",
    "#data_points = MultiPoint([Point(x, y, z) for (x, y), z in zip(coords, index)])\n",
    "#polygon = Polygon(event.geometry.coordinates[0])\n",
    "\n",
    "data_points = compute_data_points(flux, date_data, frequencies)\n",
    "\n",
    "\n"
   ]
  },
  {
   "cell_type": "code",
   "execution_count": 35,
   "id": "593a0459",
   "metadata": {},
   "outputs": [
    {
     "name": "stderr",
     "output_type": "stream",
     "text": [
      "  0%|          | 0/3 [00:00<?, ?it/s]"
     ]
    },
    {
     "name": "stdout",
     "output_type": "stream",
     "text": [
      "AKR\n"
     ]
    },
    {
     "name": "stderr",
     "output_type": "stream",
     "text": [
      " 33%|███▎      | 1/3 [08:34<17:09, 514.87s/it]"
     ]
    },
    {
     "name": "stdout",
     "output_type": "stream",
     "text": [
      "AKR1\n"
     ]
    },
    {
     "name": "stderr",
     "output_type": "stream",
     "text": [
      " 67%|██████▋   | 2/3 [09:01<03:47, 227.67s/it]"
     ]
    },
    {
     "name": "stdout",
     "output_type": "stream",
     "text": [
      "AKR2\n"
     ]
    },
    {
     "name": "stderr",
     "output_type": "stream",
     "text": [
      "100%|██████████| 3/3 [09:10<00:00, 183.40s/it]\n"
     ]
    }
   ],
   "source": [
    "mask = compute_mask(flux, date_data, frequencies, polygon_array, type_, data_points)"
   ]
  },
  {
   "cell_type": "code",
   "execution_count": 37,
   "id": "ae15887a",
   "metadata": {},
   "outputs": [
    {
     "name": "stdout",
     "output_type": "stream",
     "text": [
      "AKR\n",
      "AKR1\n",
      "AKR2\n"
     ]
    }
   ],
   "source": [
    "masked_data = apply(flux, mask, type_, invert = False)"
   ]
  },
  {
   "cell_type": "code",
   "execution_count": 38,
   "id": "78d572fd",
   "metadata": {},
   "outputs": [
    {
     "name": "stdout",
     "output_type": "stream",
     "text": [
      "/Users/clouis/Documents/Data/POLAR/data\n"
     ]
    }
   ],
   "source": [
    "print(dir_save_name)\n",
    "time = date_data\n",
    "frequency = frequencies\n",
    "if not os.path.exists(dir_save_name):\n",
    "    os.makedirs(dir_save_name)\n",
    "data_to_hdf5(dir_save_name + '/polar_AKR_mask.hdf5'  , time, frequencies, masked_data)"
   ]
  },
  {
   "cell_type": "code",
   "execution_count": null,
   "id": "fb566d84",
   "metadata": {},
   "outputs": [],
   "source": []
  }
 ],
 "metadata": {
  "kernelspec": {
   "display_name": "base",
   "language": "python",
   "name": "python3"
  },
  "language_info": {
   "codemirror_mode": {
    "name": "ipython",
    "version": 3
   },
   "file_extension": ".py",
   "mimetype": "text/x-python",
   "name": "python",
   "nbconvert_exporter": "python",
   "pygments_lexer": "ipython3",
   "version": "3.8.5"
  },
  "vscode": {
   "interpreter": {
    "hash": "d0f4c53cb46905242d07dd7db99c6189014a263d8cf0c9bdcca4d68b573b9a7e"
   }
  }
 },
 "nbformat": 4,
 "nbformat_minor": 5
}
